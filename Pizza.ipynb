{
 "cells": [
  {
   "cell_type": "code",
   "execution_count": 7,
   "metadata": {
    "collapsed": false
   },
   "outputs": [],
   "source": [
    "import pandas as pd\n",
    "import numpy as np\n",
    "\n",
    "\n",
    "# SK-learn libraries for learning.\n",
    "from sklearn.pipeline import Pipeline\n",
    "from sklearn.neighbors import KNeighborsClassifier\n",
    "from sklearn.linear_model import LogisticRegression\n",
    "from sklearn.naive_bayes import BernoulliNB\n",
    "from sklearn.naive_bayes import MultinomialNB\n",
    "from sklearn.grid_search import GridSearchCV\n",
    "\n",
    "# SK-learn libraries for evaluation.\n",
    "from sklearn.metrics import confusion_matrix\n",
    "from sklearn import metrics\n",
    "from sklearn.metrics import classification_report\n",
    "\n",
    "train = pd.read_json('/Users/marcusdemaster/Documents/MIDS/w207/FinalProject/train.json', orient='columns')\n",
    "test = pd.read_json('/Users/marcusdemaster/Documents/MIDS/w207/FinalProject/test.json', orient='columns')"
   ]
  },
  {
   "cell_type": "code",
   "execution_count": 10,
   "metadata": {
    "collapsed": false
   },
   "outputs": [
    {
     "name": "stdout",
     "output_type": "stream",
     "text": [
      "[[u'N/A' u't3_i8iy4'\n",
      "  u\"Hey all! It's about 95 degrees here and our kitchen is pretty much empty save for some bread and cereal.  My girlfriend/fiance is 8 1/2 months pregnant and we could use a good meal.  We promise to pay it forward when we get money! Thanks so much in advance!\"\n",
      "  ..., u'j_like' 1308963419 1308959819]\n",
      " [u'N/A' u't3_1mfqi0'\n",
      "  u\"I didn't know a place like this exists! \\n\\nI was out sick for 3 days the week before Labour Day. After my manager came back, I was let go at the end of my shift. I was supposed to be paid my last pay(big whopping 7.5 hours of pay) on Friday that just passed, and of course, they didn't pay me and said that'd be another week before I'll get my final check from them. I start at a new job tomorrow but won't be paid until October 4th and that money all goes right into rent. \\n\\nI just would love to eat pizza and watch Breaking Bad tonight as if everything was normal. \"\n",
      "  ..., u'0110110101101100' 1379263523 1379259923]\n",
      " [u'N/A' u't3_lclka'\n",
      "  u'Hi Reddit. Im a single dad having a really rough time. My friend mentioned this site to me so i could try to get some help. I was out of work for awhile but i recently found a new job! i dont get paid until a week from now and i can go to afood pantry monday. Could someone please help us out tonight? I will pass the favor on once i get caught up. I promise. im in virginia. Thanks for reading.'\n",
      "  ..., u'singledad22601' 1318636421 1318632821]\n",
      " ..., \n",
      " [u'N/A' u't3_iwbsf'\n",
      "  u'I live in Monterrey Mexico, yup the city of Narcos, and I would love to see if there are any Regios willing to open their hearts and invite me with a RAOP.\\n\\nMuchas gracias =)'\n",
      "  ..., u'ivanbco' 1311296237 1311292637]\n",
      " [u'N/A' u't3_nys7g'\n",
      "  u'I am 23, have been in the service industry for 9 years, currently work at a sushi restaurant last night was the busiest night of the year. Worked a 12 hour shift last night drank champagne at midnight and then finished mopping the floors. I was just hitting random and stumbled upon RAOP. I THOUGHT I had 20 bucks in my bank but my netflix went through today. I got paid yesterday but the money wont hit my bank account until Tuesday morning because the owners of my place have crappy checks that the bank atm does not recognize.\\nIf someone is gracious enough to reward me I will hold a contest Tuesday to Repay the favor. ORRRRR if you are located in Austin come into the restaurant I work at sit at the sushi bar and will give a solid hookup on some of the best sushi you will have in town. '\n",
      "  ..., u'table95' 1325444789 1325444789]\n",
      " [u'N/A' u't3_17pmtu'\n",
      "  u\"We could just really go for some pizza right now. Obviously, we are super broke. Although it's irrelevant, it's 23 degrees outside.  \"\n",
      "  ..., u'Clurshank' 1359748168 1359748168]]\n"
     ]
    }
   ],
   "source": [
    "np_test = np.array(test)\n",
    "\n",
    "print np_test"
   ]
  }
 ],
 "metadata": {
  "anaconda-cloud": {},
  "kernelspec": {
   "display_name": "Python [Root]",
   "language": "python",
   "name": "Python [Root]"
  },
  "language_info": {
   "codemirror_mode": {
    "name": "ipython",
    "version": 2
   },
   "file_extension": ".py",
   "mimetype": "text/x-python",
   "name": "python",
   "nbconvert_exporter": "python",
   "pygments_lexer": "ipython2",
   "version": "2.7.12"
  }
 },
 "nbformat": 4,
 "nbformat_minor": 0
}
